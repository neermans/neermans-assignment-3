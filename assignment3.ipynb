{
 "cells": [
  {
   "cell_type": "markdown",
   "id": "245217cc",
   "metadata": {},
   "source": [
    "# Assignment: SVD Preprocessing on MNIST with Logistic Regression"
   ]
  },
  {
   "cell_type": "markdown",
   "id": "deffa444",
   "metadata": {},
   "source": [
    "## Instructions:\n",
    "In this assignment, you will apply **Singular Value Decomposition (SVD)** as a preprocessing step to the **MNIST dataset** and train a **logistic regression classifier**. You will compare the model performance and training time when using different levels of SVD for dimensionality reduction.\n",
    "\n",
    "In this assignment, you will need to:\n",
    "1. Load the MNIST dataset and normalize it.\n",
    "2. Perform SVD and reduce the dimensions of the data.\n",
    "3. Train a logistic regression model on the original and SVD-reduced data.\n",
    "4. Measure and compare the training time and accuracy of the model with varying SVD components.\n",
    "5. Plot the results and analyze how SVD impacts the performance and efficiency of the model.\n",
    "\n",
    "***\n",
    "Your tasks include:\n",
    "1. Implement SVD algorithm. You are not allowed to directly use SVD implemented by other packages, but you may use functions in NumPy. (Part 2)\n",
    "2. Explore the accuracy and time performance from different numbers of SVD components. (Part 4)\n",
    "3. Visualize the accuracy, time performance and top 5 singular vectors in the dataset, analyze and explain which number of SVD component looks best to you? (Part 4,5&6) Hint: singular vectors should be reshaped to 28x28 images for visualization.\n",
    "***\n",
    "**Note that you may not import any other function or package.** Let's get started!\n"
   ]
  },
  {
   "cell_type": "markdown",
   "id": "b3e10cb3",
   "metadata": {},
   "source": [
    "## Part 1: Load the MNIST dataset and preprocess the data"
   ]
  },
  {
   "cell_type": "code",
   "execution_count": 1,
   "id": "79f2d907",
   "metadata": {},
   "outputs": [
    {
     "name": "stderr",
     "output_type": "stream",
     "text": [
      "/opt/anaconda3/lib/python3.9/site-packages/scipy/__init__.py:146: UserWarning: A NumPy version >=1.16.5 and <1.23.0 is required for this version of SciPy (detected version 1.23.5\n",
      "  warnings.warn(f\"A NumPy version >={np_minversion} and <{np_maxversion}\"\n"
     ]
    },
    {
     "name": "stdout",
     "output_type": "stream",
     "text": [
      "Loading MNIST dataset...\n",
      "done loading data set\n"
     ]
    }
   ],
   "source": [
    "import numpy as np\n",
    "import matplotlib.pyplot as plt\n",
    "import time\n",
    "from sklearn.linear_model import LogisticRegression\n",
    "from sklearn.model_selection import train_test_split\n",
    "from sklearn.datasets import fetch_openml\n",
    "from sklearn.metrics import accuracy_score, classification_report\n",
    "\n",
    "# Load MNIST dataset\n",
    "print(\"Loading MNIST dataset...\")\n",
    "mnist = fetch_openml('mnist_784', version=1)\n",
    "X = mnist.data\n",
    "y = mnist.target\n",
    "\n",
    "# Normalize the data\n",
    "X = X / 255.0\n",
    "\n",
    "# Split into training and test sets\n",
    "X_train, X_test, y_train, y_test = train_test_split(X, y, test_size=0.2, random_state=42)\n",
    "print(\"done loading data set\")\n"
   ]
  },
  {
   "cell_type": "markdown",
   "id": "28b8572d",
   "metadata": {},
   "source": [
    "## Part 2: Implement SVD for Dimensionality Reduction"
   ]
  },
  {
   "cell_type": "code",
   "execution_count": 2,
   "id": "b3bd59f3",
   "metadata": {},
   "outputs": [],
   "source": [
    "def apply_svd_custom(X_train, X_test, n_components):\n",
    "    print(\"starting to run apply_svd_custom\")\n",
    "    train_mean = np.mean(X_train, axis = 0)\n",
    "    test_mean = np.mean(X_test, axis = 0)\n",
    "    train_centered = X_train - train_mean\n",
    "    test_centered = X_test - test_mean\n",
    "    \n",
    "    matrix = np.dot(train_centered.T, train_centered) / train_centered.shape[0]\n",
    "    \n",
    "    eig_vals, eig_vecs = np.linalg.eigh(matrix)\n",
    "    \n",
    "    sorted = np.argsort(eig_vals)[::-1]\n",
    "    eig_vecs = eig_vecs[:, sorted]\n",
    "    eig_vals = eig_vals[sorted]\n",
    "    \n",
    "    top_n_vecs = eig_vecs[:, :n_components]\n",
    "    train_reduced = np.dot(train_centered, top_n_vecs)\n",
    "    test_reduced = np.dot(test_centered, top_n_vecs)\n",
    "    \n",
    "    return train_reduced, test_reduced"
   ]
  },
  {
   "cell_type": "markdown",
   "id": "eb2a7a9d",
   "metadata": {},
   "source": [
    "## Part 3: Train Logistic Regression and Measure Performance"
   ]
  },
  {
   "cell_type": "code",
   "execution_count": 3,
   "id": "dbfc0b10",
   "metadata": {},
   "outputs": [],
   "source": [
    "# Function to train logistic regression and track training time\n",
    "def train_logistic_regression(X_train, y_train, X_test, y_test):\n",
    "    model = LogisticRegression(max_iter=1000, solver='saga', random_state=42, multi_class='multinomial')\n",
    "    \n",
    "    # Measure training time\n",
    "    start_time = time.time()\n",
    "    model.fit(X_train, y_train)\n",
    "    training_time = time.time() - start_time\n",
    "    \n",
    "    y_pred = model.predict(X_test)\n",
    "    accuracy = accuracy_score(y_test, y_pred)\n",
    "    \n",
    "    return accuracy, training_time\n"
   ]
  },
  {
   "cell_type": "markdown",
   "id": "2e557a05",
   "metadata": {},
   "source": [
    "## Part 4: Experiment with Different Levels of SVD\n",
    "\n",
    "Now, apply SVD with varying numbers of components and observe how the dimensionality reduction impacts the model's performance. Record both the accuracy and training time for each number of components.\n"
   ]
  },
  {
   "cell_type": "code",
   "execution_count": 4,
   "id": "3a460725",
   "metadata": {},
   "outputs": [
    {
     "name": "stdout",
     "output_type": "stream",
     "text": [
      "Training models with different levels of SVD preprocessing...\n",
      "Applying custom SVD with 784 components...\n",
      "starting to run apply_svd_custom\n",
      "SVD components: 784, Accuracy: 0.9209, Training time: 443.6971 seconds\n",
      "Applying custom SVD with 200 components...\n",
      "starting to run apply_svd_custom\n",
      "SVD components: 200, Accuracy: 0.9208, Training time: 72.2226 seconds\n",
      "Applying custom SVD with 100 components...\n",
      "starting to run apply_svd_custom\n",
      "SVD components: 100, Accuracy: 0.9173, Training time: 31.9520 seconds\n",
      "Applying custom SVD with 50 components...\n",
      "starting to run apply_svd_custom\n",
      "SVD components: 50, Accuracy: 0.9082, Training time: 9.3543 seconds\n",
      "Applying custom SVD with 10 components...\n",
      "starting to run apply_svd_custom\n",
      "SVD components: 10, Accuracy: 0.8041, Training time: 0.7392 seconds\n"
     ]
    }
   ],
   "source": [
    "svd_components = [784, 200, 100, 50 , 10]  # You need to decide what number to search...\n",
    "\n",
    "# Store the results\n",
    "results = []\n",
    "\n",
    "print(\"Training models with different levels of SVD preprocessing...\")\n",
    "for n_components in svd_components:\n",
    "    print(f\"Applying custom SVD with {n_components} components...\")\n",
    "    \n",
    "    # Apply SVD to the training and test sets\n",
    "    # Call apply_svd_custom() here...\n",
    "    \n",
    "    train_svd, test_svd = apply_svd_custom(X_train, X_test, n_components)\n",
    "    \n",
    "    # Train the logistic regression model and get accuracy and training time\n",
    "    \n",
    "    accuracy, training_time = train_logistic_regression(train_svd, y_train, test_svd, y_test)\n",
    "    results.append((n_components, accuracy, training_time))\n",
    "        \n",
    "    print(f\"SVD components: {n_components}, Accuracy: {accuracy:.4f}, Training time: {training_time:.4f} seconds\")\n"
   ]
  },
  {
   "cell_type": "markdown",
   "id": "ea7aca12",
   "metadata": {},
   "source": [
    "## Part 5: Visualize and Analyze the Results\n",
    "\n",
    "Finally, plot the accuracy, training time as a function of the number of SVD components, and top 5 singular vectors. This will help you understand the trade-off between dimensionality reduction, accuracy, and model training time, and how SVD generally works. Hint: singular vectors should be reshaped to 28x28 images for visualization.\n"
   ]
  },
  {
   "cell_type": "code",
   "execution_count": 5,
   "id": "92ef0497",
   "metadata": {},
   "outputs": [
    {
     "data": {
      "image/png": "[encoded data removed]",
      "text/plain": [
       "<Figure size 720x432 with 1 Axes>"
      ]
     },
     "metadata": {
      "needs_background": "light"
     },
     "output_type": "display_data"
    },
    {
     "data": {
      "image/png": "[encoded data removed]",
      "text/plain": [
       "<Figure size 720x432 with 1 Axes>"
      ]
     },
     "metadata": {
      "needs_background": "light"
     },
     "output_type": "display_data"
    },
    {
     "data": {
      "image/png": "[encoded data removed]",
      "text/plain": [
       "<Figure size 720x144 with 5 Axes>"
      ]
     },
     "metadata": {
      "needs_background": "light"
     },
     "output_type": "display_data"
    }
   ],
   "source": [
    "## Your implementation here...\n",
    "## You may add necessary lines in Part 4 to access data for visualization\n",
    "\n",
    "components, accuracies, times = zip(*results)\n",
    "\n",
    "# Plot Accuracy vs Number of Components\n",
    "plt.figure(figsize=(10, 6))\n",
    "plt.plot(components, accuracies, marker='o', label='Accuracy')\n",
    "plt.xlabel('Number of SVD Components')\n",
    "plt.ylabel('Accuracy')\n",
    "plt.title('Accuracy vs Number of SVD Components')\n",
    "plt.grid(True)\n",
    "plt.show()\n",
    "\n",
    "# Plot Training Time vs Number of Components\n",
    "plt.figure(figsize=(10, 6))\n",
    "plt.plot(components, times, marker='o', color='red', label='Training Time')\n",
    "plt.xlabel('Number of SVD Components')\n",
    "plt.ylabel('Training Time (seconds)')\n",
    "plt.title('Training Time vs Number of SVD Components')\n",
    "plt.grid(True)\n",
    "plt.show()\n",
    "\n",
    "def plot_singular_vectors(eig_vectors, num_vectors=5):\n",
    "    plt.figure(figsize=(10, 2))\n",
    "    for i in range(num_vectors):\n",
    "        plt.subplot(1, num_vectors, i+1)\n",
    "        plt.imshow(eig_vectors[:, i].reshape(28, 28), cmap='gray')\n",
    "        plt.title(f\"Vector {i+1}\")\n",
    "        plt.axis('off')\n",
    "    plt.show()\n",
    "\n",
    "# Plot the top 5 singular vectors from the largest dimensionality case (784)\n",
    "eig_values, eig_vectors = np.linalg.eigh(np.dot((X_train - np.mean(X_train, axis=0)).T, (X_train - np.mean(X_train, axis=0))))\n",
    "sorted_indices = np.argsort(eig_values)[::-1]\n",
    "eig_vectors = eig_vectors[:, sorted_indices]\n",
    "plot_singular_vectors(eig_vectors, num_vectors=5)"
   ]
  },
  {
   "cell_type": "markdown",
   "id": "4210569a",
   "metadata": {},
   "source": [
    "## Part 6: Analyze / Conclusion \n",
    "\n",
    "YOUR ANSWER: "
   ]
  },
  {
   "cell_type": "code",
   "execution_count": 6,
   "id": "d47f043c",
   "metadata": {},
   "outputs": [],
   "source": [
    "#The biggest thing I see in this data is the sharp decrease in accuracy when using few components. This does make sense because with fewer components, \n",
    "#too much information is discarded from the original data for the accuracy to be high. I do see that there is a significant improvementsin accuracy when the numbers of \n",
    "#components are between 50-100 where it reaches around 0.92 accuracy. This means that these numbers capture enough of the datas variance to effectively classify the mnist digits.\n",
    "#After 200 components. there seems to be a plateau with the amount of accuracy, meaning that adding more components at that point does not significantly improve performance and \n",
    "#simply increases training times. \n",
    "\n",
    "#In terms of training times, as the number of SVD components rises, so does the training time. The training time increases almost in a linear fashion but the accuracy does not\n",
    "#improve too much after 100 components, so this shows there is a clear trade off. using more components will take longer, but the accuracy gains after 100 components are minimal\n",
    "\n",
    "#Because of these conclusions, in my opinion to optimize performance, between 50-100 components seems like the right number of components. \n",
    "#This is because it still provides  ahigh accuracy of around 0.91-0.92 with much faster training times than when using the full 200 components\""
   ]
  }
 ],
 "metadata": {
  "kernelspec": {
   "display_name": "Python 3 (ipykernel)",
   "language": "python",
   "name": "python3"
  },
  "language_info": {
   "codemirror_mode": {
    "name": "ipython",
    "version": 3
   },
   "file_extension": ".py",
   "mimetype": "text/x-python",
   "name": "python",
   "nbconvert_exporter": "python",
   "pygments_lexer": "ipython3",
   "version": "3.9.7"
  }
 },
 "nbformat": 4,
 "nbformat_minor": 5
}
